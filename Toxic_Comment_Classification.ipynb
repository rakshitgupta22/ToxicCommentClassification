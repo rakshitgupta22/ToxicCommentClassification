{
  "cells": [
    {
      "cell_type": "markdown",
      "metadata": {
        "id": "view-in-github",
        "colab_type": "text"
      },
      "source": [
        "<a href=\"https://colab.research.google.com/github/rakshitgupta22/ToxicCommentClassification/blob/main/Toxic_Comment_Classification.ipynb\" target=\"_parent\"><img src=\"https://colab.research.google.com/assets/colab-badge.svg\" alt=\"Open In Colab\"/></a>"
      ]
    },
    {
      "cell_type": "markdown",
      "metadata": {
        "id": "n7vsf4b63jzc"
      },
      "source": [
        "### Getting Dataset"
      ]
    },
    {
      "cell_type": "code",
      "execution_count": null,
      "metadata": {
        "id": "y9_qViYe2Rmn"
      },
      "outputs": [],
      "source": [
        "import warnings\n",
        "warnings.filterwarnings('ignore')"
      ]
    },
    {
      "cell_type": "code",
      "execution_count": null,
      "metadata": {
        "id": "DkNYrt28LU9r"
      },
      "outputs": [],
      "source": [
        "import pandas as pd\n",
        "import numpy as np\n",
        "import nltk\n",
        "from nltk.corpus import stopwords\n",
        "import re\n",
        "import string\n",
        "from sklearn.feature_extraction.text import TfidfVectorizer\n",
        "from scipy import sparse\n",
        "import matplotlib.pyplot as plt\n",
        "import seaborn as sns\n",
        "from sklearn.pipeline import make_union\n",
        "import pickle"
      ]
    },
    {
      "cell_type": "code",
      "execution_count": null,
      "metadata": {
        "id": "n3qh56JaIwPq"
      },
      "outputs": [],
      "source": [
        "#1 Code to read csv file into colaboratory:\n",
        "!pip install -U -q PyDrive\n",
        "from pydrive.auth import GoogleAuth\n",
        "from pydrive.drive import GoogleDrive\n",
        "from google.colab import auth\n",
        "from oauth2client.client import GoogleCredentials\n",
        "\n",
        "# 1. Authenticate and create the PyDrive client.\n",
        "auth.authenticate_user()\n",
        "gauth = GoogleAuth()\n",
        "gauth.credentials = GoogleCredentials.get_application_default()\n",
        "drive = GoogleDrive(gauth)"
      ]
    },
    {
      "cell_type": "code",
      "execution_count": null,
      "metadata": {
        "id": "T7-oO5UMJEk0"
      },
      "outputs": [],
      "source": [
        "#2. Get the file\n",
        "#make sure you upload all your data files to your Google drive and change share->Advanced->change->anyone with the link can view\n",
        "downloaded = drive.CreateFile({'id':'1b0BcOqd8kv_6qhtKdBEeVPt7XjoqSego'}) # replace the id with id of file you want to access\n",
        "downloaded.GetContentFile('train.csv') "
      ]
    },
    {
      "cell_type": "code",
      "execution_count": null,
      "metadata": {
        "colab": {
          "base_uri": "https://localhost:8080/",
          "height": 337
        },
        "id": "7pZir0UDJFU2",
        "outputId": "9432352e-96b6-4bca-eabe-08e7b1fb357a"
      },
      "outputs": [
        {
          "output_type": "execute_result",
          "data": {
            "text/plain": [
              "                 id                                       comment_text  toxic  \\\n",
              "0  0000997932d777bf  Explanation\\nWhy the edits made under my usern...      0   \n",
              "1  000103f0d9cfb60f  D'aww! He matches this background colour I'm s...      0   \n",
              "2  000113f07ec002fd  Hey man, I'm really not trying to edit war. It...      0   \n",
              "3  0001b41b1c6bb37e  \"\\nMore\\nI can't make any real suggestions on ...      0   \n",
              "4  0001d958c54c6e35  You, sir, are my hero. Any chance you remember...      0   \n",
              "\n",
              "   severe_toxic  obscene  threat  insult  identity_hate  \n",
              "0             0        0       0       0              0  \n",
              "1             0        0       0       0              0  \n",
              "2             0        0       0       0              0  \n",
              "3             0        0       0       0              0  \n",
              "4             0        0       0       0              0  "
            ],
            "text/html": [
              "\n",
              "  <div id=\"df-bcb6bbd9-7b57-4eea-aee0-27fc349f1309\">\n",
              "    <div class=\"colab-df-container\">\n",
              "      <div>\n",
              "<style scoped>\n",
              "    .dataframe tbody tr th:only-of-type {\n",
              "        vertical-align: middle;\n",
              "    }\n",
              "\n",
              "    .dataframe tbody tr th {\n",
              "        vertical-align: top;\n",
              "    }\n",
              "\n",
              "    .dataframe thead th {\n",
              "        text-align: right;\n",
              "    }\n",
              "</style>\n",
              "<table border=\"1\" class=\"dataframe\">\n",
              "  <thead>\n",
              "    <tr style=\"text-align: right;\">\n",
              "      <th></th>\n",
              "      <th>id</th>\n",
              "      <th>comment_text</th>\n",
              "      <th>toxic</th>\n",
              "      <th>severe_toxic</th>\n",
              "      <th>obscene</th>\n",
              "      <th>threat</th>\n",
              "      <th>insult</th>\n",
              "      <th>identity_hate</th>\n",
              "    </tr>\n",
              "  </thead>\n",
              "  <tbody>\n",
              "    <tr>\n",
              "      <th>0</th>\n",
              "      <td>0000997932d777bf</td>\n",
              "      <td>Explanation\\nWhy the edits made under my usern...</td>\n",
              "      <td>0</td>\n",
              "      <td>0</td>\n",
              "      <td>0</td>\n",
              "      <td>0</td>\n",
              "      <td>0</td>\n",
              "      <td>0</td>\n",
              "    </tr>\n",
              "    <tr>\n",
              "      <th>1</th>\n",
              "      <td>000103f0d9cfb60f</td>\n",
              "      <td>D'aww! He matches this background colour I'm s...</td>\n",
              "      <td>0</td>\n",
              "      <td>0</td>\n",
              "      <td>0</td>\n",
              "      <td>0</td>\n",
              "      <td>0</td>\n",
              "      <td>0</td>\n",
              "    </tr>\n",
              "    <tr>\n",
              "      <th>2</th>\n",
              "      <td>000113f07ec002fd</td>\n",
              "      <td>Hey man, I'm really not trying to edit war. It...</td>\n",
              "      <td>0</td>\n",
              "      <td>0</td>\n",
              "      <td>0</td>\n",
              "      <td>0</td>\n",
              "      <td>0</td>\n",
              "      <td>0</td>\n",
              "    </tr>\n",
              "    <tr>\n",
              "      <th>3</th>\n",
              "      <td>0001b41b1c6bb37e</td>\n",
              "      <td>\"\\nMore\\nI can't make any real suggestions on ...</td>\n",
              "      <td>0</td>\n",
              "      <td>0</td>\n",
              "      <td>0</td>\n",
              "      <td>0</td>\n",
              "      <td>0</td>\n",
              "      <td>0</td>\n",
              "    </tr>\n",
              "    <tr>\n",
              "      <th>4</th>\n",
              "      <td>0001d958c54c6e35</td>\n",
              "      <td>You, sir, are my hero. Any chance you remember...</td>\n",
              "      <td>0</td>\n",
              "      <td>0</td>\n",
              "      <td>0</td>\n",
              "      <td>0</td>\n",
              "      <td>0</td>\n",
              "      <td>0</td>\n",
              "    </tr>\n",
              "  </tbody>\n",
              "</table>\n",
              "</div>\n",
              "      <button class=\"colab-df-convert\" onclick=\"convertToInteractive('df-bcb6bbd9-7b57-4eea-aee0-27fc349f1309')\"\n",
              "              title=\"Convert this dataframe to an interactive table.\"\n",
              "              style=\"display:none;\">\n",
              "        \n",
              "  <svg xmlns=\"http://www.w3.org/2000/svg\" height=\"24px\"viewBox=\"0 0 24 24\"\n",
              "       width=\"24px\">\n",
              "    <path d=\"M0 0h24v24H0V0z\" fill=\"none\"/>\n",
              "    <path d=\"M18.56 5.44l.94 2.06.94-2.06 2.06-.94-2.06-.94-.94-2.06-.94 2.06-2.06.94zm-11 1L8.5 8.5l.94-2.06 2.06-.94-2.06-.94L8.5 2.5l-.94 2.06-2.06.94zm10 10l.94 2.06.94-2.06 2.06-.94-2.06-.94-.94-2.06-.94 2.06-2.06.94z\"/><path d=\"M17.41 7.96l-1.37-1.37c-.4-.4-.92-.59-1.43-.59-.52 0-1.04.2-1.43.59L10.3 9.45l-7.72 7.72c-.78.78-.78 2.05 0 2.83L4 21.41c.39.39.9.59 1.41.59.51 0 1.02-.2 1.41-.59l7.78-7.78 2.81-2.81c.8-.78.8-2.07 0-2.86zM5.41 20L4 18.59l7.72-7.72 1.47 1.35L5.41 20z\"/>\n",
              "  </svg>\n",
              "      </button>\n",
              "      \n",
              "  <style>\n",
              "    .colab-df-container {\n",
              "      display:flex;\n",
              "      flex-wrap:wrap;\n",
              "      gap: 12px;\n",
              "    }\n",
              "\n",
              "    .colab-df-convert {\n",
              "      background-color: #E8F0FE;\n",
              "      border: none;\n",
              "      border-radius: 50%;\n",
              "      cursor: pointer;\n",
              "      display: none;\n",
              "      fill: #1967D2;\n",
              "      height: 32px;\n",
              "      padding: 0 0 0 0;\n",
              "      width: 32px;\n",
              "    }\n",
              "\n",
              "    .colab-df-convert:hover {\n",
              "      background-color: #E2EBFA;\n",
              "      box-shadow: 0px 1px 2px rgba(60, 64, 67, 0.3), 0px 1px 3px 1px rgba(60, 64, 67, 0.15);\n",
              "      fill: #174EA6;\n",
              "    }\n",
              "\n",
              "    [theme=dark] .colab-df-convert {\n",
              "      background-color: #3B4455;\n",
              "      fill: #D2E3FC;\n",
              "    }\n",
              "\n",
              "    [theme=dark] .colab-df-convert:hover {\n",
              "      background-color: #434B5C;\n",
              "      box-shadow: 0px 1px 3px 1px rgba(0, 0, 0, 0.15);\n",
              "      filter: drop-shadow(0px 1px 2px rgba(0, 0, 0, 0.3));\n",
              "      fill: #FFFFFF;\n",
              "    }\n",
              "  </style>\n",
              "\n",
              "      <script>\n",
              "        const buttonEl =\n",
              "          document.querySelector('#df-bcb6bbd9-7b57-4eea-aee0-27fc349f1309 button.colab-df-convert');\n",
              "        buttonEl.style.display =\n",
              "          google.colab.kernel.accessAllowed ? 'block' : 'none';\n",
              "\n",
              "        async function convertToInteractive(key) {\n",
              "          const element = document.querySelector('#df-bcb6bbd9-7b57-4eea-aee0-27fc349f1309');\n",
              "          const dataTable =\n",
              "            await google.colab.kernel.invokeFunction('convertToInteractive',\n",
              "                                                     [key], {});\n",
              "          if (!dataTable) return;\n",
              "\n",
              "          const docLinkHtml = 'Like what you see? Visit the ' +\n",
              "            '<a target=\"_blank\" href=https://colab.research.google.com/notebooks/data_table.ipynb>data table notebook</a>'\n",
              "            + ' to learn more about interactive tables.';\n",
              "          element.innerHTML = '';\n",
              "          dataTable['output_type'] = 'display_data';\n",
              "          await google.colab.output.renderOutput(dataTable, element);\n",
              "          const docLink = document.createElement('div');\n",
              "          docLink.innerHTML = docLinkHtml;\n",
              "          element.appendChild(docLink);\n",
              "        }\n",
              "      </script>\n",
              "    </div>\n",
              "  </div>\n",
              "  "
            ]
          },
          "metadata": {},
          "execution_count": 5
        }
      ],
      "source": [
        "df = pd.read_csv(\"train.csv\")\n",
        "df.head()"
      ]
    },
    {
      "cell_type": "markdown",
      "metadata": {
        "id": "XaGG9Hzy6U1E"
      },
      "source": [
        "### Data Visualization"
      ]
    },
    {
      "cell_type": "code",
      "execution_count": null,
      "metadata": {
        "colab": {
          "base_uri": "https://localhost:8080/",
          "height": 1000
        },
        "id": "UIbP8Rye4CaP",
        "outputId": "f948f4e2-7307-4621-c308-19d70fdf3872"
      },
      "outputs": [
        {
          "output_type": "stream",
          "name": "stdout",
          "text": [
            "\n",
            "15294 toxic comments. (9.58% of all data.)\n",
            "- 1595 or 10.43% were also severe_toxic.\n",
            "- 7926 or 51.82% were also obscene.\n",
            "- 449 or 2.94% were also threat.\n",
            "- 7344 or 48.02% were also insult.\n",
            "- 1302 or 8.51% were also identity_hate.\n",
            "\n",
            "1595 severe_toxic comments. (1.00% of all data.)\n",
            "- 1595 or 100.00% were also toxic.\n",
            "- 1517 or 95.11% were also obscene.\n",
            "- 112 or 7.02% were also threat.\n",
            "- 1371 or 85.96% were also insult.\n",
            "- 313 or 19.62% were also identity_hate.\n",
            "\n",
            "8449 obscene comments. (5.29% of all data.)\n",
            "- 7926 or 93.81% were also toxic.\n",
            "- 1517 or 17.95% were also severe_toxic.\n",
            "- 301 or 3.56% were also threat.\n",
            "- 6155 or 72.85% were also insult.\n",
            "- 1032 or 12.21% were also identity_hate.\n",
            "\n",
            "478 threat comments. (0.30% of all data.)\n",
            "- 449 or 93.93% were also toxic.\n",
            "- 112 or 23.43% were also severe_toxic.\n",
            "- 301 or 62.97% were also obscene.\n",
            "- 307 or 64.23% were also insult.\n",
            "- 98 or 20.50% were also identity_hate.\n",
            "\n",
            "7877 insult comments. (4.94% of all data.)\n",
            "- 7344 or 93.23% were also toxic.\n",
            "- 1371 or 17.41% were also severe_toxic.\n",
            "- 6155 or 78.14% were also obscene.\n",
            "- 307 or 3.90% were also threat.\n",
            "- 1160 or 14.73% were also identity_hate.\n",
            "\n",
            "1405 identity_hate comments. (0.88% of all data.)\n",
            "- 1302 or 92.67% were also toxic.\n",
            "- 313 or 22.28% were also severe_toxic.\n",
            "- 1032 or 73.45% were also obscene.\n",
            "- 98 or 6.98% were also threat.\n",
            "- 1160 or 82.56% were also insult.\n"
          ]
        },
        {
          "output_type": "display_data",
          "data": {
            "text/plain": [
              "<Figure size 576x432 with 1 Axes>"
            ],
            "image/png": "[encoded data removed]"
          },
          "metadata": {
            "needs_background": "light"
          }
        }
      ],
      "source": [
        "targets = list(df.columns[2:])\n",
        "df_targets = df[targets].copy()\n",
        "\n",
        "count_dic = {}\n",
        "for comment_type in targets:\n",
        "    counts = list()\n",
        "    others = list(targets)\n",
        "    df_selection = df_targets[(df_targets[comment_type]==1)]\n",
        "    others.remove(comment_type)\n",
        "    counts.append(('total', len(df_selection)))\n",
        "    for other in others:\n",
        "        counts.append((other, df_selection[other].sum()))\n",
        "    count_dic[comment_type] = counts\n",
        "\n",
        "totals = []\n",
        "for key, value in count_dic.items():\n",
        "    totals.append(value[0][1])\n",
        "    print('\\n%d %s comments. (%.2f%% of all data.)' % (value[0][1], key, (value[0][1]/len(df))*100))\n",
        "    for cnt in value[1:]:\n",
        "        print('- %d or %.2f%% were also %s.' % (cnt[1], (cnt[1]/value[0][1])*100, cnt[0]))\n",
        "\n",
        "plt.figure('Comment Type Counts', figsize=[8,6])\n",
        "plt.title('Comment Type Counts')\n",
        "sns.barplot(x=list(count_dic.keys()), y=totals)\n",
        "plt.show()"
      ]
    },
    {
      "cell_type": "markdown",
      "metadata": {
        "id": "1PJ-QCW06b0v"
      },
      "source": [
        "### Pre-Processing"
      ]
    },
    {
      "cell_type": "markdown",
      "metadata": {
        "id": "F1Kd-WeqlnQJ"
      },
      "source": [
        "#### Feature Engineering"
      ]
    },
    {
      "cell_type": "code",
      "execution_count": null,
      "metadata": {
        "id": "FkJyccqF6e5x"
      },
      "outputs": [],
      "source": [
        "def feature_engineering(df, sparse=0): \n",
        "    \n",
        "    # Comment length\n",
        "    df['length'] = df.comment_text.apply(lambda x: len(x))\n",
        "    \n",
        "\n",
        "    # Capitalization percentage\n",
        "    def pct_caps(s):\n",
        "        return sum([1 for c in s if c.isupper()]) / (sum(([1 for c in s if c.isalpha()])) + 1)\n",
        "    df['caps'] = df.comment_text.apply(lambda x: pct_caps(x))\n",
        "\n",
        "    # Mean Word length \n",
        "    def word_length(s):\n",
        "        s = s.split(' ')\n",
        "        return np.mean([len(w) for w in s if w.isalpha()])\n",
        "    df['word_length'] = df.comment_text.apply(lambda x: word_length(x))\n",
        "\n",
        "    # Average number of exclamation points \n",
        "    df['exclamation'] = df.comment_text.apply(lambda s: len([c for c in s if c == '!']))\n",
        "\n",
        "    # Average number of question marks \n",
        "    df['question'] = df.comment_text.apply(lambda s: len([c for c in s if c == '?']))\n",
        "\n",
        "    # Strip IP Addresses\n",
        "    ip = re.compile('(([2][5][0-5]\\.)|([2][0-4][0-9]\\.)|([0-1]?[0-9]?[0-9]\\.)){3}'\n",
        "                    +'(([2][5][0-5])|([2][0-4][0-9])|([0-1]?[0-9]?[0-9]))')\n",
        "    def strip_ip(s, ip):\n",
        "        try:\n",
        "            found = ip.search(s)\n",
        "            return s.replace(found.group(), ' ')\n",
        "        except:\n",
        "            return s\n",
        "\n",
        "    df.comment_text = df.comment_text.apply(lambda x: strip_ip(x, ip))\n",
        "    \n",
        "    return df\n",
        "\n",
        "def merge_features(comment_text, data, engineered_features):\n",
        "    new_features = sparse.csr_matrix(data[engineered_features].values)\n",
        "    if np.isnan(new_features.data).any():\n",
        "        new_features.data = np.nan_to_num(new_features.data)\n",
        "    return sparse.hstack([comment_text, new_features])"
      ]
    },
    {
      "cell_type": "code",
      "execution_count": null,
      "metadata": {
        "colab": {
          "base_uri": "https://localhost:8080/",
          "height": 461
        },
        "id": "_JZC0fbb9Kd0",
        "outputId": "4a46a9b5-a460-47a5-9e68-59c06314e184"
      },
      "outputs": [
        {
          "output_type": "execute_result",
          "data": {
            "text/plain": [
              "                 id                                       comment_text  toxic  \\\n",
              "0  0000997932d777bf  Explanation\\nWhy the edits made under my usern...      0   \n",
              "1  000103f0d9cfb60f  D'aww! He matches this background colour I'm s...      0   \n",
              "2  000113f07ec002fd  Hey man, I'm really not trying to edit war. It...      0   \n",
              "3  0001b41b1c6bb37e  \"\\nMore\\nI can't make any real suggestions on ...      0   \n",
              "4  0001d958c54c6e35  You, sir, are my hero. Any chance you remember...      0   \n",
              "\n",
              "   severe_toxic  obscene  threat  insult  identity_hate  length      caps  \\\n",
              "0             0        0       0       0              0     264  0.083333   \n",
              "1             0        0       0       0              0     112  0.108108   \n",
              "2             0        0       0       0              0     233  0.021390   \n",
              "3             0        0       0       0              0     622  0.022587   \n",
              "4             0        0       0       0              0      67  0.039216   \n",
              "\n",
              "   word_length  exclamation  question  \n",
              "0     4.500000            0         1  \n",
              "1     6.250000            1         0  \n",
              "2     4.638889            0         0  \n",
              "3     4.212766            0         0  \n",
              "4     4.125000            0         1  "
            ],
            "text/html": [
              "\n",
              "  <div id=\"df-e1ef0525-249d-4076-b515-61c0fb5e4d9a\">\n",
              "    <div class=\"colab-df-container\">\n",
              "      <div>\n",
              "<style scoped>\n",
              "    .dataframe tbody tr th:only-of-type {\n",
              "        vertical-align: middle;\n",
              "    }\n",
              "\n",
              "    .dataframe tbody tr th {\n",
              "        vertical-align: top;\n",
              "    }\n",
              "\n",
              "    .dataframe thead th {\n",
              "        text-align: right;\n",
              "    }\n",
              "</style>\n",
              "<table border=\"1\" class=\"dataframe\">\n",
              "  <thead>\n",
              "    <tr style=\"text-align: right;\">\n",
              "      <th></th>\n",
              "      <th>id</th>\n",
              "      <th>comment_text</th>\n",
              "      <th>toxic</th>\n",
              "      <th>severe_toxic</th>\n",
              "      <th>obscene</th>\n",
              "      <th>threat</th>\n",
              "      <th>insult</th>\n",
              "      <th>identity_hate</th>\n",
              "      <th>length</th>\n",
              "      <th>caps</th>\n",
              "      <th>word_length</th>\n",
              "      <th>exclamation</th>\n",
              "      <th>question</th>\n",
              "    </tr>\n",
              "  </thead>\n",
              "  <tbody>\n",
              "    <tr>\n",
              "      <th>0</th>\n",
              "      <td>0000997932d777bf</td>\n",
              "      <td>Explanation\\nWhy the edits made under my usern...</td>\n",
              "      <td>0</td>\n",
              "      <td>0</td>\n",
              "      <td>0</td>\n",
              "      <td>0</td>\n",
              "      <td>0</td>\n",
              "      <td>0</td>\n",
              "      <td>264</td>\n",
              "      <td>0.083333</td>\n",
              "      <td>4.500000</td>\n",
              "      <td>0</td>\n",
              "      <td>1</td>\n",
              "    </tr>\n",
              "    <tr>\n",
              "      <th>1</th>\n",
              "      <td>000103f0d9cfb60f</td>\n",
              "      <td>D'aww! He matches this background colour I'm s...</td>\n",
              "      <td>0</td>\n",
              "      <td>0</td>\n",
              "      <td>0</td>\n",
              "      <td>0</td>\n",
              "      <td>0</td>\n",
              "      <td>0</td>\n",
              "      <td>112</td>\n",
              "      <td>0.108108</td>\n",
              "      <td>6.250000</td>\n",
              "      <td>1</td>\n",
              "      <td>0</td>\n",
              "    </tr>\n",
              "    <tr>\n",
              "      <th>2</th>\n",
              "      <td>000113f07ec002fd</td>\n",
              "      <td>Hey man, I'm really not trying to edit war. It...</td>\n",
              "      <td>0</td>\n",
              "      <td>0</td>\n",
              "      <td>0</td>\n",
              "      <td>0</td>\n",
              "      <td>0</td>\n",
              "      <td>0</td>\n",
              "      <td>233</td>\n",
              "      <td>0.021390</td>\n",
              "      <td>4.638889</td>\n",
              "      <td>0</td>\n",
              "      <td>0</td>\n",
              "    </tr>\n",
              "    <tr>\n",
              "      <th>3</th>\n",
              "      <td>0001b41b1c6bb37e</td>\n",
              "      <td>\"\\nMore\\nI can't make any real suggestions on ...</td>\n",
              "      <td>0</td>\n",
              "      <td>0</td>\n",
              "      <td>0</td>\n",
              "      <td>0</td>\n",
              "      <td>0</td>\n",
              "      <td>0</td>\n",
              "      <td>622</td>\n",
              "      <td>0.022587</td>\n",
              "      <td>4.212766</td>\n",
              "      <td>0</td>\n",
              "      <td>0</td>\n",
              "    </tr>\n",
              "    <tr>\n",
              "      <th>4</th>\n",
              "      <td>0001d958c54c6e35</td>\n",
              "      <td>You, sir, are my hero. Any chance you remember...</td>\n",
              "      <td>0</td>\n",
              "      <td>0</td>\n",
              "      <td>0</td>\n",
              "      <td>0</td>\n",
              "      <td>0</td>\n",
              "      <td>0</td>\n",
              "      <td>67</td>\n",
              "      <td>0.039216</td>\n",
              "      <td>4.125000</td>\n",
              "      <td>0</td>\n",
              "      <td>1</td>\n",
              "    </tr>\n",
              "  </tbody>\n",
              "</table>\n",
              "</div>\n",
              "      <button class=\"colab-df-convert\" onclick=\"convertToInteractive('df-e1ef0525-249d-4076-b515-61c0fb5e4d9a')\"\n",
              "              title=\"Convert this dataframe to an interactive table.\"\n",
              "              style=\"display:none;\">\n",
              "        \n",
              "  <svg xmlns=\"http://www.w3.org/2000/svg\" height=\"24px\"viewBox=\"0 0 24 24\"\n",
              "       width=\"24px\">\n",
              "    <path d=\"M0 0h24v24H0V0z\" fill=\"none\"/>\n",
              "    <path d=\"M18.56 5.44l.94 2.06.94-2.06 2.06-.94-2.06-.94-.94-2.06-.94 2.06-2.06.94zm-11 1L8.5 8.5l.94-2.06 2.06-.94-2.06-.94L8.5 2.5l-.94 2.06-2.06.94zm10 10l.94 2.06.94-2.06 2.06-.94-2.06-.94-.94-2.06-.94 2.06-2.06.94z\"/><path d=\"M17.41 7.96l-1.37-1.37c-.4-.4-.92-.59-1.43-.59-.52 0-1.04.2-1.43.59L10.3 9.45l-7.72 7.72c-.78.78-.78 2.05 0 2.83L4 21.41c.39.39.9.59 1.41.59.51 0 1.02-.2 1.41-.59l7.78-7.78 2.81-2.81c.8-.78.8-2.07 0-2.86zM5.41 20L4 18.59l7.72-7.72 1.47 1.35L5.41 20z\"/>\n",
              "  </svg>\n",
              "      </button>\n",
              "      \n",
              "  <style>\n",
              "    .colab-df-container {\n",
              "      display:flex;\n",
              "      flex-wrap:wrap;\n",
              "      gap: 12px;\n",
              "    }\n",
              "\n",
              "    .colab-df-convert {\n",
              "      background-color: #E8F0FE;\n",
              "      border: none;\n",
              "      border-radius: 50%;\n",
              "      cursor: pointer;\n",
              "      display: none;\n",
              "      fill: #1967D2;\n",
              "      height: 32px;\n",
              "      padding: 0 0 0 0;\n",
              "      width: 32px;\n",
              "    }\n",
              "\n",
              "    .colab-df-convert:hover {\n",
              "      background-color: #E2EBFA;\n",
              "      box-shadow: 0px 1px 2px rgba(60, 64, 67, 0.3), 0px 1px 3px 1px rgba(60, 64, 67, 0.15);\n",
              "      fill: #174EA6;\n",
              "    }\n",
              "\n",
              "    [theme=dark] .colab-df-convert {\n",
              "      background-color: #3B4455;\n",
              "      fill: #D2E3FC;\n",
              "    }\n",
              "\n",
              "    [theme=dark] .colab-df-convert:hover {\n",
              "      background-color: #434B5C;\n",
              "      box-shadow: 0px 1px 3px 1px rgba(0, 0, 0, 0.15);\n",
              "      filter: drop-shadow(0px 1px 2px rgba(0, 0, 0, 0.3));\n",
              "      fill: #FFFFFF;\n",
              "    }\n",
              "  </style>\n",
              "\n",
              "      <script>\n",
              "        const buttonEl =\n",
              "          document.querySelector('#df-e1ef0525-249d-4076-b515-61c0fb5e4d9a button.colab-df-convert');\n",
              "        buttonEl.style.display =\n",
              "          google.colab.kernel.accessAllowed ? 'block' : 'none';\n",
              "\n",
              "        async function convertToInteractive(key) {\n",
              "          const element = document.querySelector('#df-e1ef0525-249d-4076-b515-61c0fb5e4d9a');\n",
              "          const dataTable =\n",
              "            await google.colab.kernel.invokeFunction('convertToInteractive',\n",
              "                                                     [key], {});\n",
              "          if (!dataTable) return;\n",
              "\n",
              "          const docLinkHtml = 'Like what you see? Visit the ' +\n",
              "            '<a target=\"_blank\" href=https://colab.research.google.com/notebooks/data_table.ipynb>data table notebook</a>'\n",
              "            + ' to learn more about interactive tables.';\n",
              "          element.innerHTML = '';\n",
              "          dataTable['output_type'] = 'display_data';\n",
              "          await google.colab.output.renderOutput(dataTable, element);\n",
              "          const docLink = document.createElement('div');\n",
              "          docLink.innerHTML = docLinkHtml;\n",
              "          element.appendChild(docLink);\n",
              "        }\n",
              "      </script>\n",
              "    </div>\n",
              "  </div>\n",
              "  "
            ]
          },
          "metadata": {},
          "execution_count": 8
        }
      ],
      "source": [
        "df = feature_engineering(df)\n",
        "df.head()"
      ]
    },
    {
      "cell_type": "code",
      "execution_count": null,
      "metadata": {
        "id": "qz1gwcgH9bvV"
      },
      "outputs": [],
      "source": [
        "from sklearn.preprocessing import MinMaxScaler\n",
        "scaler = MinMaxScaler()\n",
        "df[['length', 'caps', 'word_length', 'question', 'exclamation']] = scaler.fit_transform(df[['length', 'caps', 'word_length', 'question', 'exclamation']])\n",
        "\n",
        "with open('MinMaxScaler.pkl', 'wb') as file:\n",
        "  pickle.dump(scaler, file)"
      ]
    },
    {
      "cell_type": "code",
      "execution_count": null,
      "metadata": {
        "id": "ec9f0Bvm9eS7"
      },
      "outputs": [],
      "source": [
        "with open('MinMaxScaler.pkl', 'rb') as file:\n",
        "  scaler = pickle.load(file)\n",
        "\n",
        "df[['length', 'caps', 'word_length', 'question', 'exclamation']] = scaler.transform(df[['length', 'caps', 'word_length', 'question', 'exclamation']])"
      ]
    },
    {
      "cell_type": "code",
      "execution_count": null,
      "metadata": {
        "colab": {
          "base_uri": "https://localhost:8080/"
        },
        "id": "P8hDSwCu7wOW",
        "outputId": "cf1f464e-f6f7-4158-d443-9a9475aa6365"
      },
      "outputs": [
        {
          "output_type": "stream",
          "name": "stdout",
          "text": [
            "Training labels:\n",
            "['toxic', 'severe_toxic', 'obscene', 'threat', 'insult', 'identity_hate']\n",
            "(159571, 6)\n",
            "\n",
            "Training data\n",
            "['comment_text', 'length', 'caps', 'word_length', 'exclamation', 'question']\n",
            "(159571, 6)\n"
          ]
        }
      ],
      "source": [
        "print('Training labels:')\n",
        "print(list(df_targets.columns))\n",
        "print(df_targets.shape)\n",
        "\n",
        "print('\\nTraining data')\n",
        "df.drop(list(df_targets.columns), inplace=True, axis=1)\n",
        "df.drop('id', inplace=True, axis=1)\n",
        "print(list(df.columns))\n",
        "print(df.shape)\n",
        "\n",
        "toxic_rows = df_targets.sum(axis=1)\n",
        "toxic_rows = (toxic_rows > 0)\n",
        "targets.append('any_label')\n",
        "df_targets['any_label'] = toxic_rows.astype(int)\n",
        "\n",
        "new_features = list(df.columns[1:])"
      ]
    },
    {
      "cell_type": "markdown",
      "metadata": {
        "id": "MD_es0YKlg-v"
      },
      "source": [
        "#### Vectorizing the Comments"
      ]
    },
    {
      "cell_type": "markdown",
      "metadata": {
        "id": "xRxuxrlmqWf7"
      },
      "source": [
        "Run only one of the 2 sections below"
      ]
    },
    {
      "cell_type": "code",
      "execution_count": null,
      "metadata": {
        "id": "DotWRg9D83by"
      },
      "outputs": [],
      "source": [
        "#TF-IDF Vectorizor\n",
        "\n",
        "comment_vector = TfidfVectorizer(max_features=25000, analyzer='word', ngram_range=(1, 2), \n",
        "                                 stop_words='english')\n",
        "training_comments = comment_vector.fit_transform(df.comment_text)"
      ]
    },
    {
      "cell_type": "code",
      "execution_count": null,
      "metadata": {
        "id": "IzYaK1bVqA8W"
      },
      "outputs": [],
      "source": [
        "with open('vectorizer.pkl', 'rb') as file:\n",
        "  comment_vector = pickle.load(file)"
      ]
    },
    {
      "cell_type": "code",
      "execution_count": null,
      "metadata": {
        "id": "v8QIJpcSqxVl"
      },
      "outputs": [],
      "source": [
        "training_comments = comment_vector.transform(df.comment_text)"
      ]
    },
    {
      "cell_type": "markdown",
      "metadata": {
        "id": "HJB2nKFxlswd"
      },
      "source": [
        "#### Splitting Datasets"
      ]
    },
    {
      "cell_type": "code",
      "execution_count": null,
      "metadata": {
        "id": "dAVBmjdWG1qv"
      },
      "outputs": [],
      "source": [
        "X = merge_features(training_comments, df, new_features)"
      ]
    },
    {
      "cell_type": "code",
      "execution_count": null,
      "metadata": {
        "id": "zpHmevhfG3_O"
      },
      "outputs": [],
      "source": [
        "sparse.save_npz(\"trainmatrix.npz\", X)"
      ]
    },
    {
      "cell_type": "code",
      "execution_count": null,
      "metadata": {
        "id": "6TAsoT-NaNuX"
      },
      "outputs": [],
      "source": [
        "downloaded = drive.CreateFile({'id':'1Td1nh_L8W3cRt0Y193hvg2qSNxGJA5iH'})\n",
        "downloaded.GetContentFile('trainmatrix.npz') "
      ]
    },
    {
      "cell_type": "code",
      "execution_count": null,
      "metadata": {
        "id": "LP-8WcbHHC2d"
      },
      "outputs": [],
      "source": [
        "X = sparse.load_npz(\"trainmatrix.npz\")"
      ]
    },
    {
      "cell_type": "code",
      "execution_count": null,
      "metadata": {
        "id": "5qCFzY4P9aFl"
      },
      "outputs": [],
      "source": [
        "from sklearn.model_selection import train_test_split\n",
        "#60% 20% 20% split\n",
        "X_train_validate, X_test, y_train_validate, y_test,  = train_test_split(X, df_targets, test_size=0.2, random_state=0)\n",
        "X_train, X_validate, y_train, y_validate,  = train_test_split(X_train_validate, y_train_validate, test_size=0.25, random_state=0)"
      ]
    },
    {
      "cell_type": "code",
      "execution_count": null,
      "metadata": {
        "colab": {
          "base_uri": "https://localhost:8080/"
        },
        "id": "SQ9vWANdBEFQ",
        "outputId": "7ac16865-6156-4164-eb74-f242c39ede01"
      },
      "outputs": [
        {
          "data": {
            "text/plain": [
              "(159571, 25005)"
            ]
          },
          "execution_count": 11,
          "metadata": {},
          "output_type": "execute_result"
        }
      ],
      "source": [
        "X.shape"
      ]
    },
    {
      "cell_type": "code",
      "execution_count": null,
      "metadata": {
        "colab": {
          "base_uri": "https://localhost:8080/"
        },
        "id": "jmgRum1jDOXq",
        "outputId": "b743dc29-097d-4650-cc08-27ab8cf80ba5"
      },
      "outputs": [
        {
          "data": {
            "text/plain": [
              "(159571, 7)"
            ]
          },
          "execution_count": 12,
          "metadata": {},
          "output_type": "execute_result"
        }
      ],
      "source": [
        "df_targets.shape"
      ]
    },
    {
      "cell_type": "code",
      "execution_count": null,
      "metadata": {
        "colab": {
          "base_uri": "https://localhost:8080/"
        },
        "id": "sQXQ72xQEAQQ",
        "outputId": "43b187f4-5c76-4bfc-a6bb-0f9168c1eedd"
      },
      "outputs": [
        {
          "name": "stdout",
          "output_type": "stream",
          "text": [
            "(95742, 25005) (95742, 7) (31914, 25005) (31914, 7) (31915, 25005) (31915, 7)\n"
          ]
        }
      ],
      "source": [
        "print(X_train.shape,y_train.shape, \n",
        "      X_validate.shape, y_validate.shape,\n",
        "      X_test.shape, y_test.shape)"
      ]
    },
    {
      "cell_type": "markdown",
      "metadata": {
        "id": "UjYz2jjOrMLA"
      },
      "source": [
        "### Helper Functions"
      ]
    },
    {
      "cell_type": "markdown",
      "metadata": {
        "id": "NB2HJHcHEP-B"
      },
      "source": [
        "#### Cross Validation"
      ]
    },
    {
      "cell_type": "code",
      "execution_count": null,
      "metadata": {
        "id": "gvIEYMjoEFaz"
      },
      "outputs": [],
      "source": [
        "from sklearn.model_selection import StratifiedKFold\n",
        "from sklearn.model_selection import cross_val_score\n",
        "from sklearn.base import clone\n",
        "from sklearn.metrics import classification_report\n",
        "\n",
        "def cross_validate(num_splits, X, Y, model):\n",
        "\n",
        "  kf = StratifiedKFold(n_splits=num_splits, shuffle= True, random_state=0)\n",
        "  labels = Y.columns\n",
        "  label_scores = {}\n",
        "\n",
        "  for label in labels:\n",
        "    score_list = cross_val_score(clone(model), X, Y[label], scoring='f1', cv=kf)\n",
        "    #print(label, \":\", score_list)\n",
        "    label_scores[str(label) + \" avg f1 score\"] = np.mean(score_list)\n",
        "    \n",
        "  return label_scores"
      ]
    },
    {
      "cell_type": "markdown",
      "metadata": {
        "id": "irukyLGwrbT3"
      },
      "source": [
        "#### Model Evaluation"
      ]
    },
    {
      "cell_type": "code",
      "execution_count": null,
      "metadata": {
        "id": "ZYrJCIwzIvpZ"
      },
      "outputs": [],
      "source": [
        "from sklearn.metrics import classification_report\n",
        "from sklearn.metrics import confusion_matrix, ConfusionMatrixDisplay\n",
        "\n",
        "def model_evaluate(model, X_train, Y_train, X_test, Y_test, model_name):\n",
        "  labels = Y_train.columns\n",
        "\n",
        "  for label in labels:\n",
        "    model.fit(X_train, Y_train[label])\n",
        "    \n",
        "    with open('%s_%s.pkl' %(model_name, label), 'wb') as file:\n",
        "      pickle.dump(model, file)\n",
        "\n",
        "    #Predictions\n",
        "    train_pred = model.predict(X_train)\n",
        "    test_pred = model.predict(X_test)\n",
        "\n",
        "    #F1-scores\n",
        "    #Training Report\n",
        "    report_train = classification_report(Y_train[label], train_pred)\n",
        "    print(\"Training Classification Report for %s label:\\n\" % label,report_train)\n",
        "\n",
        "    #Getting confusion matrix for Training Data\n",
        "    cm_train = confusion_matrix(Y_train[label], train_pred, labels=model.classes_)\n",
        "\n",
        "    # Print the confusion matrix using Matplotlib\n",
        "    #\n",
        "    fig, ax = plt.subplots(figsize=(5, 5))\n",
        "    ax.matshow(cm_train, cmap=plt.cm.Blues, alpha=0.3)\n",
        "    for i in range(cm_train.shape[0]):\n",
        "        for j in range(cm_train.shape[1]):\n",
        "            ax.text(x=j, y=i,s=cm_train[i, j], va='center', ha='center', size='xx-large')\n",
        "    \n",
        "    plt.xlabel('Prediction', fontsize=18)\n",
        "    plt.ylabel('Actual', fontsize=18)\n",
        "    plt.title(\"Training Confusion Matrix for %s\" % label, fontsize=18)\n",
        "    plt.show()\n",
        "\n",
        "    #Testing Report\n",
        "    report_test = classification_report(Y_test[label], test_pred)\n",
        "    print(\"Testing Classification Report for %s label:\\n\" % label,report_test)\n",
        "\n",
        "    #Getting confusion matrix for Validation Data\n",
        "    cm_test = confusion_matrix(Y_test[label], test_pred, labels=model.classes_)\n",
        "\n",
        "    # Print the confusion matrix using Matplotlib\n",
        "    #\n",
        "    fig, ax = plt.subplots(figsize=(5, 5))\n",
        "    ax.matshow(cm_test, cmap=plt.cm.Blues, alpha=0.3)\n",
        "    for i in range(cm_test.shape[0]):\n",
        "        for j in range(cm_test.shape[1]):\n",
        "            ax.text(x=j, y=i,s=cm_test[i, j], va='center', ha='center', size='xx-large')\n",
        "    \n",
        "    plt.xlabel('Prediction', fontsize=18)\n",
        "    plt.ylabel('Actual', fontsize=18)\n",
        "    plt.title(\"Testing Confusion Matrix for %s\" % label, fontsize=18)\n",
        "    plt.show()\n",
        "\n",
        "  return"
      ]
    },
    {
      "cell_type": "markdown",
      "metadata": {
        "id": "kpq6o2mQ6oJN"
      },
      "source": [
        "#### Prediction based on custom input"
      ]
    },
    {
      "cell_type": "code",
      "execution_count": null,
      "metadata": {
        "id": "_Pf5vM3Oq7AN"
      },
      "outputs": [],
      "source": [
        "def feature_engineering_predict(df, scaler, sparse=0): \n",
        "    \n",
        "    # Comment length\n",
        "    df['length'] = df.comment_text.apply(lambda x: len(x))\n",
        "    \n",
        "\n",
        "    # Capitalization percentage\n",
        "    def pct_caps(s):\n",
        "        return sum([1 for c in s if c.isupper()]) / (sum(([1 for c in s if c.isalpha()])) + 1)\n",
        "    df['caps'] = df.comment_text.apply(lambda x: pct_caps(x))\n",
        "\n",
        "    # Mean Word length \n",
        "    def word_length(s):\n",
        "        s = s.split(' ')\n",
        "        return np.mean([len(w) for w in s if w.isalpha()])\n",
        "    df['word_length'] = df.comment_text.apply(lambda x: word_length(x))\n",
        "\n",
        "    # Average number of exclamation points \n",
        "    df['exclamation'] = df.comment_text.apply(lambda s: len([c for c in s if c == '!']))\n",
        "\n",
        "    # Average number of question marks \n",
        "    df['question'] = df.comment_text.apply(lambda s: len([c for c in s if c == '?']))\n",
        "    \n",
        "    # Normalize\n",
        "    labels = ['length', 'caps', 'word_length', 'question', 'exclamation']\n",
        "    df[labels] = scaler.transform(df[labels])\n",
        "\n",
        "    # Strip IP Addresses\n",
        "    ip = re.compile('(([2][5][0-5]\\.)|([2][0-4][0-9]\\.)|([0-1]?[0-9]?[0-9]\\.)){3}'\n",
        "                    +'(([2][5][0-5])|([2][0-4][0-9])|([0-1]?[0-9]?[0-9]))')\n",
        "    def strip_ip(s, ip):\n",
        "        try:\n",
        "            found = ip.search(s)\n",
        "            return s.replace(found.group(), ' ')\n",
        "        except:\n",
        "            return s\n",
        "\n",
        "    df.comment_text = df.comment_text.apply(lambda x: strip_ip(x, ip))\n",
        "    \n",
        "    return df"
      ]
    },
    {
      "cell_type": "code",
      "execution_count": null,
      "metadata": {
        "id": "zrqQjZJH6vcx"
      },
      "outputs": [],
      "source": [
        "def predict_custom(cust_string: str, vectorizor, scaler, model: str):\n",
        "  df = pd.DataFrame({'comment_text': [cust_string]})\n",
        "\n",
        "  #print(df)\n",
        "\n",
        "  comment = vectorizor.transform(df.comment_text)\n",
        "  df = feature_engineering_predict(df, scaler)\n",
        "  processed_input = merge_features(comment, df, new_features)\n",
        "  results = {}\n",
        "\n",
        "  for label in ['toxic','threat','severe_toxic','obscene','insult','identity_hate','any_label']:\n",
        "    with open('%s_%s.pkl' %(model,label), 'rb') as file:\n",
        "      MLmod = pickle.load(file)\n",
        "      results[label] = list(MLmod.predict(processed_input))\n",
        "\n",
        "  return results"
      ]
    },
    {
      "cell_type": "markdown",
      "metadata": {
        "id": "rf1wfHdAEZCz"
      },
      "source": [
        "### Naive Bayes Algorithm"
      ]
    },
    {
      "cell_type": "code",
      "execution_count": null,
      "metadata": {
        "id": "sWtpGBudEVxE"
      },
      "outputs": [],
      "source": [
        "from sklearn.naive_bayes import MultinomialNB\n",
        "nb = MultinomialNB()\n"
      ]
    },
    {
      "cell_type": "code",
      "execution_count": null,
      "metadata": {
        "colab": {
          "base_uri": "https://localhost:8080/"
        },
        "id": "KvUBR-IFilvn",
        "outputId": "06423a0e-48f2-4b25-c28d-ac713d59b5f9"
      },
      "outputs": [
        {
          "data": {
            "text/plain": [
              "{'toxic avg f1 score': 0.6320643872747835,\n",
              " 'severe_toxic avg f1 score': 0.09583702764785151,\n",
              " 'obscene avg f1 score': 0.6094139976532379,\n",
              " 'threat avg f1 score': 0.01493983434911705,\n",
              " 'insult avg f1 score': 0.5012189873174175,\n",
              " 'identity_hate avg f1 score': 0.020879926859429614,\n",
              " 'any_label avg f1 score': 0.6429850925943718}"
            ]
          },
          "execution_count": 18,
          "metadata": {},
          "output_type": "execute_result"
        }
      ],
      "source": [
        "#Cross Validation\n",
        "nb_cv_scores = cross_validate(5, X_train_validate, y_train_validate, nb)\n",
        "nb_cv_scores"
      ]
    },
    {
      "cell_type": "markdown",
      "metadata": {
        "id": "CqPOAeh-lOGA"
      },
      "source": [
        "#### Hyper Parameter Tuning"
      ]
    },
    {
      "cell_type": "markdown",
      "metadata": {
        "id": "An6NIcZanPzP"
      },
      "source": [
        "Tuning the TF-IDF Vector size\n",
        "\n",
        "30000 word features with unigrams and bigrams"
      ]
    },
    {
      "cell_type": "code",
      "execution_count": null,
      "metadata": {
        "id": "3-MCaC90lXPa"
      },
      "outputs": [],
      "source": [
        "comment_vector = TfidfVectorizer(max_features=30000, analyzer='word', ngram_range=(1, 2), \n",
        "                                 stop_words='english')\n",
        "training_comments = comment_vector.fit_transform(df.comment_text)"
      ]
    },
    {
      "cell_type": "code",
      "execution_count": null,
      "metadata": {
        "id": "FdQPC5xYmjsU"
      },
      "outputs": [],
      "source": [
        "X = merge_features(training_comments, df, new_features)\n",
        "\n",
        "from sklearn.model_selection import train_test_split\n",
        "#60% 20% 20% split\n",
        "X_train_validate, X_test, y_train_validate, y_test,  = train_test_split(X, df_targets, test_size=0.2, random_state=0)\n",
        "X_train, X_validate, y_train, y_validate,  = train_test_split(X_train_validate, y_train_validate, test_size=0.25, random_state=0)"
      ]
    },
    {
      "cell_type": "code",
      "execution_count": null,
      "metadata": {
        "colab": {
          "base_uri": "https://localhost:8080/"
        },
        "id": "bgjjkCx_mrgi",
        "outputId": "eaba997b-3808-4894-e7f8-2c205706c6a8"
      },
      "outputs": [
        {
          "data": {
            "text/plain": [
              "{'toxic avg f1 score': 0.6200004246706182,\n",
              " 'severe_toxic avg f1 score': 0.07472891287445652,\n",
              " 'obscene avg f1 score': 0.592688218560314,\n",
              " 'threat avg f1 score': 0.010001562744178778,\n",
              " 'insult avg f1 score': 0.4774335256626121,\n",
              " 'identity_hate avg f1 score': 0.017468185128525323,\n",
              " 'any_label avg f1 score': 0.6336829596417415}"
            ]
          },
          "execution_count": 32,
          "metadata": {},
          "output_type": "execute_result"
        }
      ],
      "source": [
        "nb = MultinomialNB()\n",
        "#Cross Validation\n",
        "nb_cv_scores = cross_validate(5, X_train_validate, y_train_validate, nb)\n",
        "nb_cv_scores"
      ]
    },
    {
      "cell_type": "markdown",
      "metadata": {
        "id": "5M-fBmtXndCG"
      },
      "source": [
        "20000 word features with unigrams"
      ]
    },
    {
      "cell_type": "code",
      "execution_count": null,
      "metadata": {
        "colab": {
          "base_uri": "https://localhost:8080/"
        },
        "id": "2pGjHweSng3s",
        "outputId": "e0c9b5e8-f586-4c34-d319-f5359fc625cb"
      },
      "outputs": [
        {
          "data": {
            "text/plain": [
              "{'toxic avg f1 score': 0.6269280114246942,\n",
              " 'severe_toxic avg f1 score': 0.01558852140077821,\n",
              " 'obscene avg f1 score': 0.598377908196607,\n",
              " 'threat avg f1 score': 0.0,\n",
              " 'insult avg f1 score': 0.4875160117236773,\n",
              " 'identity_hate avg f1 score': 0.0017937219730941704,\n",
              " 'any_label avg f1 score': 0.6408658087600182}"
            ]
          },
          "execution_count": 33,
          "metadata": {},
          "output_type": "execute_result"
        }
      ],
      "source": [
        "comment_vector = TfidfVectorizer(max_features=20000, analyzer='word', ngram_range=(1, 1), \n",
        "                                 stop_words='english')\n",
        "training_comments = comment_vector.fit_transform(df.comment_text)\n",
        "\n",
        "X = merge_features(training_comments, df, new_features)\n",
        "\n",
        "from sklearn.model_selection import train_test_split\n",
        "#60% 20% 20% split\n",
        "X_train_validate, X_test, y_train_validate, y_test,  = train_test_split(X, df_targets, test_size=0.2, random_state=0)\n",
        "X_train, X_validate, y_train, y_validate,  = train_test_split(X_train_validate, y_train_validate, test_size=0.25, random_state=0)\n",
        "\n",
        "nb = MultinomialNB()\n",
        "#Cross Validation\n",
        "nb_cv_scores = cross_validate(5, X_train_validate, y_train_validate, nb)\n",
        "nb_cv_scores"
      ]
    },
    {
      "cell_type": "markdown",
      "metadata": {
        "id": "ZJ5vAxA-n7gK"
      },
      "source": [
        "20000 word features with unigrams and bigrams"
      ]
    },
    {
      "cell_type": "code",
      "execution_count": null,
      "metadata": {
        "colab": {
          "base_uri": "https://localhost:8080/"
        },
        "id": "ZIw7ZX1Sn_lx",
        "outputId": "63085d72-3b11-4574-a3ea-f871d79f3817"
      },
      "outputs": [
        {
          "data": {
            "text/plain": [
              "{'toxic avg f1 score': 0.6438370674938912,\n",
              " 'severe_toxic avg f1 score': 0.12287036872290329,\n",
              " 'obscene avg f1 score': 0.620812608977062,\n",
              " 'threat avg f1 score': 0.024390243902439025,\n",
              " 'insult avg f1 score': 0.5233958795371015,\n",
              " 'identity_hate avg f1 score': 0.02745623762226352,\n",
              " 'any_label avg f1 score': 0.6544920068664949}"
            ]
          },
          "execution_count": 34,
          "metadata": {},
          "output_type": "execute_result"
        }
      ],
      "source": [
        "comment_vector = TfidfVectorizer(max_features=20000, analyzer='word', ngram_range=(1, 2), \n",
        "                                 stop_words='english')\n",
        "training_comments = comment_vector.fit_transform(df.comment_text)\n",
        "\n",
        "X = merge_features(training_comments, df, new_features)\n",
        "\n",
        "from sklearn.model_selection import train_test_split\n",
        "#60% 20% 20% split\n",
        "X_train_validate, X_test, y_train_validate, y_test,  = train_test_split(X, df_targets, test_size=0.2, random_state=0)\n",
        "X_train, X_validate, y_train, y_validate,  = train_test_split(X_train_validate, y_train_validate, test_size=0.25, random_state=0)\n",
        "\n",
        "nb = MultinomialNB()\n",
        "#Cross Validation\n",
        "nb_cv_scores = cross_validate(5, X_train_validate, y_train_validate, nb)\n",
        "nb_cv_scores"
      ]
    },
    {
      "cell_type": "markdown",
      "metadata": {
        "id": "A546myDYoWAJ"
      },
      "source": [
        "20000 word features with unigrams and bigrams, 10000 char features with trigrams, quadgrams and pentgrams"
      ]
    },
    {
      "cell_type": "code",
      "execution_count": null,
      "metadata": {
        "colab": {
          "base_uri": "https://localhost:8080/"
        },
        "id": "4fct87iMohs0",
        "outputId": "77c59bdc-314c-48dd-8931-638d898c9b22"
      },
      "outputs": [
        {
          "data": {
            "text/plain": [
              "{'toxic avg f1 score': 0.7089463483635663,\n",
              " 'severe_toxic avg f1 score': 0.47021071026581296,\n",
              " 'obscene avg f1 score': 0.7066551233417999,\n",
              " 'threat avg f1 score': 0.07148327862613577,\n",
              " 'insult avg f1 score': 0.6491288040102631,\n",
              " 'identity_hate avg f1 score': 0.2755976376761129,\n",
              " 'any_label avg f1 score': 0.71225963080895}"
            ]
          },
          "execution_count": 36,
          "metadata": {},
          "output_type": "execute_result"
        }
      ],
      "source": [
        "word_vectorizer = TfidfVectorizer(max_features=20000, analyzer='word', ngram_range=(1, 2), \n",
        "                                 stop_words='english')\n",
        "char_vectorizer = TfidfVectorizer(max_features=10000, analyzer='char', ngram_range=(3, 5), \n",
        "                                 stop_words='english')\n",
        "comment_vector = make_union(word_vectorizer, char_vectorizer, n_jobs=-1)\n",
        "\n",
        "training_comments = comment_vector.fit_transform(df.comment_text)\n",
        "\n",
        "X = merge_features(training_comments, df, new_features)\n",
        "\n",
        "from sklearn.model_selection import train_test_split\n",
        "#60% 20% 20% split\n",
        "X_train_validate, X_test, y_train_validate, y_test,  = train_test_split(X, df_targets, test_size=0.2, random_state=0)\n",
        "X_train, X_validate, y_train, y_validate,  = train_test_split(X_train_validate, y_train_validate, test_size=0.25, random_state=0)\n",
        "\n",
        "nb = MultinomialNB()\n",
        "#Cross Validation\n",
        "nb_cv_scores = cross_validate(5, X_train_validate, y_train_validate, nb)\n",
        "nb_cv_scores"
      ]
    },
    {
      "cell_type": "markdown",
      "metadata": {
        "id": "b96tushIlS3I"
      },
      "source": [
        "#### Model Evaluation"
      ]
    },
    {
      "cell_type": "markdown",
      "metadata": {
        "id": "lI6CSCzbq3jF"
      },
      "source": [
        "Optimum Model"
      ]
    },
    {
      "cell_type": "code",
      "execution_count": null,
      "metadata": {
        "id": "ciwIhYEaK4EP"
      },
      "outputs": [],
      "source": [
        "word_vectorizer = TfidfVectorizer(max_features=20000, analyzer='word', ngram_range=(1, 2), \n",
        "                                 stop_words='english')\n",
        "char_vectorizer = TfidfVectorizer(max_features=10000, analyzer='char', ngram_range=(3, 5), \n",
        "                                 stop_words='english')\n",
        "comment_vector = make_union(word_vectorizer, char_vectorizer, n_jobs=-1)\n",
        "\n",
        "training_comments_opt = comment_vector.fit_transform(df.comment_text)\n",
        "with open('vectorizer.pkl', 'wb') as file:\n",
        "  pickle.dump(comment_vector, file)\n"
      ]
    },
    {
      "cell_type": "code",
      "execution_count": null,
      "metadata": {
        "id": "rLO23Sk-dO2P"
      },
      "outputs": [],
      "source": [
        "X = merge_features(training_comments_opt, df, new_features)\n",
        "\n",
        "from sklearn.model_selection import train_test_split\n",
        "#60% 20% 20% split\n",
        "X_train_validate, X_test, y_train_validate, y_test,  = train_test_split(X, df_targets, test_size=0.2, random_state=0)\n",
        "X_train, X_validate, y_train, y_validate,  = train_test_split(X_train_validate, y_train_validate, test_size=0.25, random_state=0)"
      ]
    },
    {
      "cell_type": "code",
      "execution_count": null,
      "metadata": {
        "id": "9INw2eR-w-dk"
      },
      "outputs": [],
      "source": [
        "model_evaluate(MultinomialNB(), X_train_validate, y_train_validate, X_test, y_test, 'naiveBayes')"
      ]
    },
    {
      "cell_type": "code",
      "execution_count": null,
      "metadata": {
        "colab": {
          "base_uri": "https://localhost:8080/"
        },
        "id": "z287eYzDDEGl",
        "outputId": "84a20320-01ab-41b5-e1c8-105d1762004f"
      },
      "outputs": [
        {
          "data": {
            "text/plain": [
              "{'toxic avg f1 score': 0.7089680702546521,\n",
              " 'severe_toxic avg f1 score': 0.4674254657047648,\n",
              " 'obscene avg f1 score': 0.7022172694581552,\n",
              " 'threat avg f1 score': 0.11274974653350309,\n",
              " 'insult avg f1 score': 0.6468001416533444,\n",
              " 'identity_hate avg f1 score': 0.29798169243549316,\n",
              " 'any_label avg f1 score': 0.7134189146809733}"
            ]
          },
          "execution_count": 21,
          "metadata": {},
          "output_type": "execute_result"
        }
      ],
      "source": [
        "nb_cv_scores_opt = cross_validate(5, X, df_targets, MultinomialNB())\n",
        "nb_cv_scores_opt"
      ]
    },
    {
      "cell_type": "code",
      "execution_count": null,
      "metadata": {
        "colab": {
          "base_uri": "https://localhost:8080/"
        },
        "id": "GFgvv3C6y53S",
        "outputId": "a87d5dc6-6857-4045-80d6-e74416af787a"
      },
      "outputs": [
        {
          "name": "stdout",
          "output_type": "stream",
          "text": [
            "{'toxic': [1], 'threat': [0], 'severe_toxic': [0], 'obscene': [0], 'insult': [0], 'identity_hate': [0], 'any_label': [1]}\n"
          ]
        }
      ],
      "source": [
        "#Predict on Custom Input\n",
        "test_string = 'this is a stupid article'\n",
        "print(predict_custom(test_string, comment_vector, scaler, 'naiveBayes'))"
      ]
    },
    {
      "cell_type": "markdown",
      "metadata": {
        "id": "5-_FeWWtCuHk"
      },
      "source": [
        "### SVM"
      ]
    },
    {
      "cell_type": "markdown",
      "metadata": {
        "id": "edZRowJ3NU-G"
      },
      "source": [
        "#### Hyper Parameter Tuning"
      ]
    },
    {
      "cell_type": "code",
      "execution_count": null,
      "metadata": {
        "id": "FQlhZ2MhCxwP"
      },
      "outputs": [],
      "source": [
        "from sklearn.svm import LinearSVC"
      ]
    },
    {
      "cell_type": "markdown",
      "metadata": {
        "id": "0n683npnqfhT"
      },
      "source": [
        "Checking performance with linear kernel (NLP text classification tasks are generally linear) and multiple values of C (Reguralization Parameter). Using 'any_label' column for hyper paramater tuning gives similar results with faster performance."
      ]
    },
    {
      "cell_type": "code",
      "execution_count": null,
      "metadata": {
        "id": "NSNUZX5FHxAz"
      },
      "outputs": [],
      "source": [
        "#C=1\n",
        "svcClassifier = LinearSVC(C=1.0, random_state=0)\n",
        "svc_cv_scores = cross_validate(5, X_train_validate, y_train_validate[['any_label']], svcClassifier)"
      ]
    },
    {
      "cell_type": "code",
      "execution_count": null,
      "metadata": {
        "colab": {
          "base_uri": "https://localhost:8080/"
        },
        "id": "fwsItsWrs5AL",
        "outputId": "dc0d9019-02be-43c4-a573-9cc776cd975f"
      },
      "outputs": [
        {
          "name": "stdout",
          "output_type": "stream",
          "text": [
            "{'any_label avg f1 score': 0.7906389231379947}\n"
          ]
        }
      ],
      "source": [
        "print(svc_cv_scores)"
      ]
    },
    {
      "cell_type": "code",
      "execution_count": null,
      "metadata": {
        "colab": {
          "base_uri": "https://localhost:8080/"
        },
        "id": "Xg2VSub9tAWw",
        "outputId": "de876dec-30f7-4cf2-8505-43162c60f3b3"
      },
      "outputs": [
        {
          "name": "stdout",
          "output_type": "stream",
          "text": [
            "{'any_label avg f1 score': 0.7913948796307558}\n"
          ]
        }
      ],
      "source": [
        "#C=0.8\n",
        "svcClassifier = LinearSVC(C=0.8, random_state=0)\n",
        "svc_cv_scores = cross_validate(5, X_train_validate, y_train_validate[['any_label']], svcClassifier)\n",
        "print(svc_cv_scores)"
      ]
    },
    {
      "cell_type": "code",
      "execution_count": null,
      "metadata": {
        "colab": {
          "base_uri": "https://localhost:8080/"
        },
        "id": "PAkQgV1vtG46",
        "outputId": "47979bf4-34fe-40e9-eb55-6ce5d643e507"
      },
      "outputs": [
        {
          "name": "stdout",
          "output_type": "stream",
          "text": [
            "{'any_label avg f1 score': 0.7918604765449287}\n"
          ]
        }
      ],
      "source": [
        "#C=0.7\n",
        "svcClassifier = LinearSVC(C=0.7, random_state=0)\n",
        "svc_cv_scores = cross_validate(5, X_train_validate, y_train_validate[['any_label']], svcClassifier)\n",
        "print(svc_cv_scores)"
      ]
    },
    {
      "cell_type": "code",
      "execution_count": null,
      "metadata": {
        "colab": {
          "base_uri": "https://localhost:8080/"
        },
        "id": "OOy_YxN8tw_w",
        "outputId": "a72a13e4-62e8-4c27-8888-799cc671768d"
      },
      "outputs": [
        {
          "name": "stdout",
          "output_type": "stream",
          "text": [
            "{'any_label avg f1 score': 0.793217081857754}\n"
          ]
        }
      ],
      "source": [
        "#C=0.5\n",
        "svcClassifier = LinearSVC(C=0.5, random_state=0)\n",
        "svc_cv_scores = cross_validate(5, X_train_validate, y_train_validate[['any_label']], svcClassifier)\n",
        "print(svc_cv_scores)"
      ]
    },
    {
      "cell_type": "markdown",
      "metadata": {
        "id": "mxCQD7acuRJv"
      },
      "source": [
        "#### Model Evaluation using optimum model"
      ]
    },
    {
      "cell_type": "code",
      "execution_count": null,
      "metadata": {
        "colab": {
          "base_uri": "https://localhost:8080/",
          "height": 1000
        },
        "id": "grwaUdJkuZ81",
        "outputId": "ffa593bb-c34b-4889-ee20-7d3316c47455"
      },
      "outputs": [
        {
          "name": "stdout",
          "output_type": "stream",
          "text": [
            "Training Classification Report for toxic label:\n",
            "               precision    recall  f1-score   support\n",
            "\n",
            "           0       0.98      1.00      0.99    115463\n",
            "           1       0.96      0.84      0.90     12193\n",
            "\n",
            "    accuracy                           0.98    127656\n",
            "   macro avg       0.97      0.92      0.94    127656\n",
            "weighted avg       0.98      0.98      0.98    127656\n",
            "\n"
          ]
        },
        {
          "data": {
            "image/png": "[encoded data removed]",
            "text/plain": [
              "<Figure size 360x360 with 1 Axes>"
            ]
          },
          "metadata": {},
          "output_type": "display_data"
        },
        {
          "name": "stdout",
          "output_type": "stream",
          "text": [
            "Testing Classification Report for toxic label:\n",
            "               precision    recall  f1-score   support\n",
            "\n",
            "           0       0.97      0.99      0.98     28814\n",
            "           1       0.88      0.71      0.79      3101\n",
            "\n",
            "    accuracy                           0.96     31915\n",
            "   macro avg       0.93      0.85      0.88     31915\n",
            "weighted avg       0.96      0.96      0.96     31915\n",
            "\n"
          ]
        },
        {
          "data": {
            "image/png": "[encoded data removed]",
            "text/plain": [
              "<Figure size 360x360 with 1 Axes>"
            ]
          },
          "metadata": {},
          "output_type": "display_data"
        },
        {
          "name": "stdout",
          "output_type": "stream",
          "text": [
            "Training Classification Report for severe_toxic label:\n",
            "               precision    recall  f1-score   support\n",
            "\n",
            "           0       1.00      1.00      1.00    126390\n",
            "           1       0.89      0.68      0.77      1266\n",
            "\n",
            "    accuracy                           1.00    127656\n",
            "   macro avg       0.94      0.84      0.88    127656\n",
            "weighted avg       1.00      1.00      1.00    127656\n",
            "\n"
          ]
        },
        {
          "data": {
            "image/png": "[encoded data removed]",
            "text/plain": [
              "<Figure size 360x360 with 1 Axes>"
            ]
          },
          "metadata": {},
          "output_type": "display_data"
        },
        {
          "name": "stdout",
          "output_type": "stream",
          "text": [
            "Testing Classification Report for severe_toxic label:\n",
            "               precision    recall  f1-score   support\n",
            "\n",
            "           0       0.99      1.00      0.99     31586\n",
            "           1       0.50      0.27      0.35       329\n",
            "\n",
            "    accuracy                           0.99     31915\n",
            "   macro avg       0.75      0.63      0.67     31915\n",
            "weighted avg       0.99      0.99      0.99     31915\n",
            "\n"
          ]
        },
        {
          "data": {
            "image/png": "[encoded data removed]",
            "text/plain": [
              "<Figure size 360x360 with 1 Axes>"
            ]
          },
          "metadata": {},
          "output_type": "display_data"
        },
        {
          "name": "stdout",
          "output_type": "stream",
          "text": [
            "Training Classification Report for obscene label:\n",
            "               precision    recall  f1-score   support\n",
            "\n",
            "           0       0.99      1.00      1.00    120905\n",
            "           1       0.96      0.88      0.92      6751\n",
            "\n",
            "    accuracy                           0.99    127656\n",
            "   macro avg       0.97      0.94      0.96    127656\n",
            "weighted avg       0.99      0.99      0.99    127656\n",
            "\n"
          ]
        },
        {
          "data": {
            "image/png": "[encoded data removed]",
            "text/plain": [
              "<Figure size 360x360 with 1 Axes>"
            ]
          },
          "metadata": {},
          "output_type": "display_data"
        },
        {
          "name": "stdout",
          "output_type": "stream",
          "text": [
            "Testing Classification Report for obscene label:\n",
            "               precision    recall  f1-score   support\n",
            "\n",
            "           0       0.98      0.99      0.99     30217\n",
            "           1       0.87      0.73      0.79      1698\n",
            "\n",
            "    accuracy                           0.98     31915\n",
            "   macro avg       0.93      0.86      0.89     31915\n",
            "weighted avg       0.98      0.98      0.98     31915\n",
            "\n"
          ]
        },
        {
          "data": {
            "image/png": "[encoded data removed]",
            "text/plain": [
              "<Figure size 360x360 with 1 Axes>"
            ]
          },
          "metadata": {},
          "output_type": "display_data"
        },
        {
          "name": "stdout",
          "output_type": "stream",
          "text": [
            "Training Classification Report for threat label:\n",
            "               precision    recall  f1-score   support\n",
            "\n",
            "           0       1.00      1.00      1.00    127269\n",
            "           1       0.97      0.80      0.88       387\n",
            "\n",
            "    accuracy                           1.00    127656\n",
            "   macro avg       0.99      0.90      0.94    127656\n",
            "weighted avg       1.00      1.00      1.00    127656\n",
            "\n"
          ]
        },
        {
          "data": {
            "image/png": "[encoded data removed]",
            "text/plain": [
              "<Figure size 360x360 with 1 Axes>"
            ]
          },
          "metadata": {},
          "output_type": "display_data"
        },
        {
          "name": "stdout",
          "output_type": "stream",
          "text": [
            "Testing Classification Report for threat label:\n",
            "               precision    recall  f1-score   support\n",
            "\n",
            "           0       1.00      1.00      1.00     31824\n",
            "           1       0.74      0.29      0.41        91\n",
            "\n",
            "    accuracy                           1.00     31915\n",
            "   macro avg       0.87      0.64      0.71     31915\n",
            "weighted avg       1.00      1.00      1.00     31915\n",
            "\n"
          ]
        },
        {
          "data": {
            "image/png": "[encoded data removed]",
            "text/plain": [
              "<Figure size 360x360 with 1 Axes>"
            ]
          },
          "metadata": {},
          "output_type": "display_data"
        },
        {
          "name": "stdout",
          "output_type": "stream",
          "text": [
            "Training Classification Report for insult label:\n",
            "               precision    recall  f1-score   support\n",
            "\n",
            "           0       0.99      1.00      0.99    121373\n",
            "           1       0.92      0.81      0.86      6283\n",
            "\n",
            "    accuracy                           0.99    127656\n",
            "   macro avg       0.95      0.90      0.93    127656\n",
            "weighted avg       0.99      0.99      0.99    127656\n",
            "\n"
          ]
        },
        {
          "data": {
            "image/png": "[encoded data removed]",
            "text/plain": [
              "<Figure size 360x360 with 1 Axes>"
            ]
          },
          "metadata": {},
          "output_type": "display_data"
        },
        {
          "name": "stdout",
          "output_type": "stream",
          "text": [
            "Testing Classification Report for insult label:\n",
            "               precision    recall  f1-score   support\n",
            "\n",
            "           0       0.98      0.99      0.99     30321\n",
            "           1       0.79      0.61      0.69      1594\n",
            "\n",
            "    accuracy                           0.97     31915\n",
            "   macro avg       0.89      0.80      0.84     31915\n",
            "weighted avg       0.97      0.97      0.97     31915\n",
            "\n"
          ]
        },
        {
          "data": {
            "image/png": "[encoded data removed]",
            "text/plain": [
              "<Figure size 360x360 with 1 Axes>"
            ]
          },
          "metadata": {},
          "output_type": "display_data"
        },
        {
          "name": "stdout",
          "output_type": "stream",
          "text": [
            "Training Classification Report for identity_hate label:\n",
            "               precision    recall  f1-score   support\n",
            "\n",
            "           0       1.00      1.00      1.00    126549\n",
            "           1       0.95      0.67      0.78      1107\n",
            "\n",
            "    accuracy                           1.00    127656\n",
            "   macro avg       0.97      0.83      0.89    127656\n",
            "weighted avg       1.00      1.00      1.00    127656\n",
            "\n"
          ]
        },
        {
          "data": {
            "image/png": "[encoded data removed]",
            "text/plain": [
              "<Figure size 360x360 with 1 Axes>"
            ]
          },
          "metadata": {},
          "output_type": "display_data"
        },
        {
          "name": "stdout",
          "output_type": "stream",
          "text": [
            "Testing Classification Report for identity_hate label:\n",
            "               precision    recall  f1-score   support\n",
            "\n",
            "           0       0.99      1.00      1.00     31617\n",
            "           1       0.66      0.33      0.44       298\n",
            "\n",
            "    accuracy                           0.99     31915\n",
            "   macro avg       0.83      0.67      0.72     31915\n",
            "weighted avg       0.99      0.99      0.99     31915\n",
            "\n"
          ]
        },
        {
          "data": {
            "image/png": "[encoded data removed]",
            "text/plain": [
              "<Figure size 360x360 with 1 Axes>"
            ]
          },
          "metadata": {},
          "output_type": "display_data"
        },
        {
          "name": "stdout",
          "output_type": "stream",
          "text": [
            "Training Classification Report for any_label label:\n",
            "               precision    recall  f1-score   support\n",
            "\n",
            "           0       0.98      1.00      0.99    114736\n",
            "           1       0.97      0.85      0.90     12920\n",
            "\n",
            "    accuracy                           0.98    127656\n",
            "   macro avg       0.97      0.92      0.95    127656\n",
            "weighted avg       0.98      0.98      0.98    127656\n",
            "\n"
          ]
        },
        {
          "data": {
            "image/png": "[encoded data removed]",
            "text/plain": [
              "<Figure size 360x360 with 1 Axes>"
            ]
          },
          "metadata": {},
          "output_type": "display_data"
        },
        {
          "name": "stdout",
          "output_type": "stream",
          "text": [
            "Testing Classification Report for any_label label:\n",
            "               precision    recall  f1-score   support\n",
            "\n",
            "           0       0.97      0.99      0.98     28610\n",
            "           1       0.90      0.73      0.80      3305\n",
            "\n",
            "    accuracy                           0.96     31915\n",
            "   macro avg       0.93      0.86      0.89     31915\n",
            "weighted avg       0.96      0.96      0.96     31915\n",
            "\n"
          ]
        },
        {
          "data": {
            "image/png": "[encoded data removed]",
            "text/plain": [
              "<Figure size 360x360 with 1 Axes>"
            ]
          },
          "metadata": {},
          "output_type": "display_data"
        }
      ],
      "source": [
        "model_evaluate(LinearSVC(C=0.5, random_state=0), X_train_validate, y_train_validate, X_test, y_test, 'svm')"
      ]
    },
    {
      "cell_type": "code",
      "execution_count": null,
      "metadata": {
        "colab": {
          "base_uri": "https://localhost:8080/"
        },
        "id": "ZK7LxdhJu0h1",
        "outputId": "57dbb0b0-e7c7-4b6b-e099-9884e7ce8f37"
      },
      "outputs": [
        {
          "data": {
            "text/plain": [
              "{'toxic avg f1 score': 0.7861896836427268,\n",
              " 'severe_toxic avg f1 score': 0.38603475905654294,\n",
              " 'obscene avg f1 score': 0.7987703952263617,\n",
              " 'threat avg f1 score': 0.4151086979855257,\n",
              " 'insult avg f1 score': 0.6918480966084882,\n",
              " 'identity_hate avg f1 score': 0.4184662988308638,\n",
              " 'any_label avg f1 score': 0.8011148035160487}"
            ]
          },
          "execution_count": 24,
          "metadata": {},
          "output_type": "execute_result"
        }
      ],
      "source": [
        "svm_cv_scores_opt = cross_validate(5, X, df_targets, LinearSVC(C=0.5, random_state=0))\n",
        "svm_cv_scores_opt"
      ]
    },
    {
      "cell_type": "code",
      "execution_count": null,
      "metadata": {
        "colab": {
          "base_uri": "https://localhost:8080/"
        },
        "id": "0Tr7qqlmwReU",
        "outputId": "2ab16a95-c365-4e05-d81f-8f7d82b182f5"
      },
      "outputs": [
        {
          "name": "stdout",
          "output_type": "stream",
          "text": [
            "{'toxic': [1], 'threat': [0], 'severe_toxic': [0], 'obscene': [1], 'insult': [1], 'identity_hate': [0], 'any_label': [1]}\n"
          ]
        }
      ],
      "source": [
        "#Predict on Custom Input\n",
        "test_string = 'this is a stupid article'\n",
        "print(predict_custom(test_string, comment_vector, scaler, 'svm'))"
      ]
    },
    {
      "cell_type": "code",
      "execution_count": null,
      "metadata": {
        "colab": {
          "base_uri": "https://localhost:8080/"
        },
        "id": "eJZmVyZGxmvP",
        "outputId": "c8b7d194-c7c3-4488-8122-ab373d585203"
      },
      "outputs": [
        {
          "name": "stdout",
          "output_type": "stream",
          "text": [
            "{'toxic': [1], 'threat': [0], 'severe_toxic': [1], 'obscene': [1], 'insult': [1], 'identity_hate': [1], 'any_label': [1]}\n",
            "{'toxic': [0], 'threat': [0], 'severe_toxic': [0], 'obscene': [0], 'insult': [0], 'identity_hate': [0], 'any_label': [0]}\n"
          ]
        }
      ],
      "source": [
        "#Predict on Custom Input\n",
        "test_string1 = \"fuckin gays!!! You r a PUSSY!!\"\n",
        "test_string2 = \"You should reconsider your suggestion. I don't think it will work like this.\"\n",
        "print(predict_custom(test_string1, comment_vector, scaler, 'svm'))\n",
        "print(predict_custom(test_string2, comment_vector, scaler, 'svm'))"
      ]
    },
    {
      "cell_type": "markdown",
      "metadata": {
        "id": "mrJGU3ZtD7R9"
      },
      "source": [
        "### Logistic Regression"
      ]
    },
    {
      "cell_type": "code",
      "execution_count": null,
      "metadata": {
        "id": "AzCExuP6E2np"
      },
      "outputs": [],
      "source": [
        "from sklearn.linear_model import LogisticRegression"
      ]
    },
    {
      "cell_type": "markdown",
      "metadata": {
        "id": "2t9rLm91Equj"
      },
      "source": [
        "#### Hyper Parameter Tuning"
      ]
    },
    {
      "cell_type": "code",
      "source": [
        "#C=0.8\n",
        "lrClassifier = LogisticRegression(C=0.8, random_state=0)\n",
        "svc_cv_scores = cross_validate(5, X_train_validate, y_train_validate[['any_label']], lrClassifier)\n",
        "print(svc_cv_scores)"
      ],
      "metadata": {
        "colab": {
          "base_uri": "https://localhost:8080/"
        },
        "id": "rbCjXD-As1W1",
        "outputId": "90629605-289a-4a26-8e95-aee4f42b9695"
      },
      "execution_count": null,
      "outputs": [
        {
          "output_type": "stream",
          "name": "stdout",
          "text": [
            "{'any_label avg f1 score': 0.7660755194071085}\n"
          ]
        }
      ]
    },
    {
      "cell_type": "code",
      "execution_count": null,
      "metadata": {
        "colab": {
          "base_uri": "https://localhost:8080/"
        },
        "id": "yjQ4zr3BEAnx",
        "outputId": "69d240a1-1980-495a-8883-22ff3a23c8c8"
      },
      "outputs": [
        {
          "output_type": "stream",
          "name": "stdout",
          "text": [
            "{'any_label avg f1 score': 0.7503593677569528}\n"
          ]
        }
      ],
      "source": [
        "#C=0.5\n",
        "lrClassifier = LogisticRegression(C=0.5, random_state=0)\n",
        "svc_cv_scores = cross_validate(5, X_train_validate, y_train_validate[['any_label']], lrClassifier)\n",
        "print(svc_cv_scores)"
      ]
    },
    {
      "cell_type": "code",
      "source": [
        "#C=1.0\n",
        "lrClassifier = LogisticRegression(C=1.0, random_state=0)\n",
        "svc_cv_scores = cross_validate(5, X_train_validate, y_train_validate[['any_label']], lrClassifier)\n",
        "print(svc_cv_scores)"
      ],
      "metadata": {
        "colab": {
          "base_uri": "https://localhost:8080/"
        },
        "id": "wOE_TWyWuhAO",
        "outputId": "1635fc4c-31a9-4c7e-8abf-58144d32b05f"
      },
      "execution_count": null,
      "outputs": [
        {
          "output_type": "stream",
          "name": "stdout",
          "text": [
            "{'any_label avg f1 score': 0.7713593631108507}\n"
          ]
        }
      ]
    },
    {
      "cell_type": "code",
      "source": [
        "#C=1.2\n",
        "lrClassifier = LogisticRegression(C=1.2, random_state=0)\n",
        "svc_cv_scores = cross_validate(5, X_train_validate, y_train_validate[['any_label']], lrClassifier)\n",
        "print(svc_cv_scores)"
      ],
      "metadata": {
        "colab": {
          "base_uri": "https://localhost:8080/"
        },
        "id": "SG0eGt73wOyU",
        "outputId": "3d674b29-cfda-486e-f99e-f846c47cd8ac"
      },
      "execution_count": null,
      "outputs": [
        {
          "output_type": "stream",
          "name": "stdout",
          "text": [
            "{'any_label avg f1 score': 0.7763149999379589}\n"
          ]
        }
      ]
    },
    {
      "cell_type": "markdown",
      "metadata": {
        "id": "jawoPIm2ExOM"
      },
      "source": [
        "#### Model Evaluation"
      ]
    },
    {
      "cell_type": "code",
      "source": [
        "model_evaluate(LogisticRegression(C=1.2, random_state=0), X_train_validate, y_train_validate, X_test, y_test, 'logisticReg')"
      ],
      "metadata": {
        "colab": {
          "base_uri": "https://localhost:8080/",
          "height": 1000
        },
        "id": "TrzE17bNunpW",
        "outputId": "ca55feea-8586-4a4f-8364-63801fcf6a90"
      },
      "execution_count": null,
      "outputs": [
        {
          "output_type": "stream",
          "name": "stdout",
          "text": [
            "Training Classification Report for toxic label:\n",
            "               precision    recall  f1-score   support\n",
            "\n",
            "           0       0.97      1.00      0.98    115463\n",
            "           1       0.94      0.73      0.82     12193\n",
            "\n",
            "    accuracy                           0.97    127656\n",
            "   macro avg       0.96      0.86      0.90    127656\n",
            "weighted avg       0.97      0.97      0.97    127656\n",
            "\n"
          ]
        },
        {
          "output_type": "display_data",
          "data": {
            "text/plain": [
              "<Figure size 360x360 with 1 Axes>"
            ],
            "image/png": "[encoded data removed]"
          },
          "metadata": {
            "needs_background": "light"
          }
        },
        {
          "output_type": "stream",
          "name": "stdout",
          "text": [
            "Testing Classification Report for toxic label:\n",
            "               precision    recall  f1-score   support\n",
            "\n",
            "           0       0.97      0.99      0.98     28814\n",
            "           1       0.90      0.67      0.77      3101\n",
            "\n",
            "    accuracy                           0.96     31915\n",
            "   macro avg       0.93      0.83      0.87     31915\n",
            "weighted avg       0.96      0.96      0.96     31915\n",
            "\n"
          ]
        },
        {
          "output_type": "display_data",
          "data": {
            "text/plain": [
              "<Figure size 360x360 with 1 Axes>"
            ],
            "image/png": "[encoded data removed]"
          },
          "metadata": {
            "needs_background": "light"
          }
        },
        {
          "output_type": "stream",
          "name": "stdout",
          "text": [
            "Training Classification Report for severe_toxic label:\n",
            "               precision    recall  f1-score   support\n",
            "\n",
            "           0       0.99      1.00      1.00    126390\n",
            "           1       0.71      0.40      0.51      1266\n",
            "\n",
            "    accuracy                           0.99    127656\n",
            "   macro avg       0.85      0.70      0.75    127656\n",
            "weighted avg       0.99      0.99      0.99    127656\n",
            "\n"
          ]
        },
        {
          "output_type": "display_data",
          "data": {
            "text/plain": [
              "<Figure size 360x360 with 1 Axes>"
            ],
            "image/png": "[encoded data removed]"
          },
          "metadata": {
            "needs_background": "light"
          }
        },
        {
          "output_type": "stream",
          "name": "stdout",
          "text": [
            "Testing Classification Report for severe_toxic label:\n",
            "               precision    recall  f1-score   support\n",
            "\n",
            "           0       0.99      1.00      1.00     31586\n",
            "           1       0.55      0.28      0.37       329\n",
            "\n",
            "    accuracy                           0.99     31915\n",
            "   macro avg       0.77      0.64      0.68     31915\n",
            "weighted avg       0.99      0.99      0.99     31915\n",
            "\n"
          ]
        },
        {
          "output_type": "display_data",
          "data": {
            "text/plain": [
              "<Figure size 360x360 with 1 Axes>"
            ],
            "image/png": "[encoded data removed]"
          },
          "metadata": {
            "needs_background": "light"
          }
        },
        {
          "output_type": "stream",
          "name": "stdout",
          "text": [
            "Training Classification Report for obscene label:\n",
            "               precision    recall  f1-score   support\n",
            "\n",
            "           0       0.99      1.00      0.99    120905\n",
            "           1       0.93      0.76      0.84      6751\n",
            "\n",
            "    accuracy                           0.98    127656\n",
            "   macro avg       0.96      0.88      0.91    127656\n",
            "weighted avg       0.98      0.98      0.98    127656\n",
            "\n"
          ]
        },
        {
          "output_type": "display_data",
          "data": {
            "text/plain": [
              "<Figure size 360x360 with 1 Axes>"
            ],
            "image/png": "[encoded data removed]"
          },
          "metadata": {
            "needs_background": "light"
          }
        },
        {
          "output_type": "stream",
          "name": "stdout",
          "text": [
            "Testing Classification Report for obscene label:\n",
            "               precision    recall  f1-score   support\n",
            "\n",
            "           0       0.98      1.00      0.99     30217\n",
            "           1       0.90      0.69      0.78      1698\n",
            "\n",
            "    accuracy                           0.98     31915\n",
            "   macro avg       0.94      0.84      0.88     31915\n",
            "weighted avg       0.98      0.98      0.98     31915\n",
            "\n"
          ]
        },
        {
          "output_type": "display_data",
          "data": {
            "text/plain": [
              "<Figure size 360x360 with 1 Axes>"
            ],
            "image/png": "[encoded data removed]"
          },
          "metadata": {
            "needs_background": "light"
          }
        },
        {
          "output_type": "stream",
          "name": "stdout",
          "text": [
            "Training Classification Report for threat label:\n",
            "               precision    recall  f1-score   support\n",
            "\n",
            "           0       1.00      1.00      1.00    127269\n",
            "           1       0.84      0.31      0.45       387\n",
            "\n",
            "    accuracy                           1.00    127656\n",
            "   macro avg       0.92      0.65      0.72    127656\n",
            "weighted avg       1.00      1.00      1.00    127656\n",
            "\n"
          ]
        },
        {
          "output_type": "display_data",
          "data": {
            "text/plain": [
              "<Figure size 360x360 with 1 Axes>"
            ],
            "image/png": "[encoded data removed]"
          },
          "metadata": {
            "needs_background": "light"
          }
        },
        {
          "output_type": "stream",
          "name": "stdout",
          "text": [
            "Testing Classification Report for threat label:\n",
            "               precision    recall  f1-score   support\n",
            "\n",
            "           0       1.00      1.00      1.00     31824\n",
            "           1       0.72      0.25      0.37        91\n",
            "\n",
            "    accuracy                           1.00     31915\n",
            "   macro avg       0.86      0.63      0.69     31915\n",
            "weighted avg       1.00      1.00      1.00     31915\n",
            "\n"
          ]
        },
        {
          "output_type": "display_data",
          "data": {
            "text/plain": [
              "<Figure size 360x360 with 1 Axes>"
            ],
            "image/png": "[encoded data removed]"
          },
          "metadata": {
            "needs_background": "light"
          }
        },
        {
          "output_type": "stream",
          "name": "stdout",
          "text": [
            "Training Classification Report for insult label:\n",
            "               precision    recall  f1-score   support\n",
            "\n",
            "           0       0.98      1.00      0.99    121373\n",
            "           1       0.87      0.66      0.75      6283\n",
            "\n",
            "    accuracy                           0.98    127656\n",
            "   macro avg       0.93      0.83      0.87    127656\n",
            "weighted avg       0.98      0.98      0.98    127656\n",
            "\n"
          ]
        },
        {
          "output_type": "display_data",
          "data": {
            "text/plain": [
              "<Figure size 360x360 with 1 Axes>"
            ],
            "image/png": "[encoded data removed]"
          },
          "metadata": {
            "needs_background": "light"
          }
        },
        {
          "output_type": "stream",
          "name": "stdout",
          "text": [
            "Testing Classification Report for insult label:\n",
            "               precision    recall  f1-score   support\n",
            "\n",
            "           0       0.98      0.99      0.99     30321\n",
            "           1       0.82      0.58      0.68      1594\n",
            "\n",
            "    accuracy                           0.97     31915\n",
            "   macro avg       0.90      0.79      0.83     31915\n",
            "weighted avg       0.97      0.97      0.97     31915\n",
            "\n"
          ]
        },
        {
          "output_type": "display_data",
          "data": {
            "text/plain": [
              "<Figure size 360x360 with 1 Axes>"
            ],
            "image/png": "[encoded data removed]"
          },
          "metadata": {
            "needs_background": "light"
          }
        },
        {
          "output_type": "stream",
          "name": "stdout",
          "text": [
            "Training Classification Report for identity_hate label:\n",
            "               precision    recall  f1-score   support\n",
            "\n",
            "           0       0.99      1.00      1.00    126549\n",
            "           1       0.85      0.35      0.49      1107\n",
            "\n",
            "    accuracy                           0.99    127656\n",
            "   macro avg       0.92      0.67      0.74    127656\n",
            "weighted avg       0.99      0.99      0.99    127656\n",
            "\n"
          ]
        },
        {
          "output_type": "display_data",
          "data": {
            "text/plain": [
              "<Figure size 360x360 with 1 Axes>"
            ],
            "image/png": "[encoded data removed]"
          },
          "metadata": {
            "needs_background": "light"
          }
        },
        {
          "output_type": "stream",
          "name": "stdout",
          "text": [
            "Testing Classification Report for identity_hate label:\n",
            "               precision    recall  f1-score   support\n",
            "\n",
            "           0       0.99      1.00      1.00     31617\n",
            "           1       0.68      0.32      0.44       298\n",
            "\n",
            "    accuracy                           0.99     31915\n",
            "   macro avg       0.83      0.66      0.72     31915\n",
            "weighted avg       0.99      0.99      0.99     31915\n",
            "\n"
          ]
        },
        {
          "output_type": "display_data",
          "data": {
            "text/plain": [
              "<Figure size 360x360 with 1 Axes>"
            ],
            "image/png": "[encoded data removed]"
          },
          "metadata": {
            "needs_background": "light"
          }
        },
        {
          "output_type": "stream",
          "name": "stdout",
          "text": [
            "Training Classification Report for any_label label:\n",
            "               precision    recall  f1-score   support\n",
            "\n",
            "           0       0.97      1.00      0.98    114736\n",
            "           1       0.95      0.74      0.83     12920\n",
            "\n",
            "    accuracy                           0.97    127656\n",
            "   macro avg       0.96      0.87      0.91    127656\n",
            "weighted avg       0.97      0.97      0.97    127656\n",
            "\n"
          ]
        },
        {
          "output_type": "display_data",
          "data": {
            "text/plain": [
              "<Figure size 360x360 with 1 Axes>"
            ],
            "image/png": "[encoded data removed]"
          },
          "metadata": {
            "needs_background": "light"
          }
        },
        {
          "output_type": "stream",
          "name": "stdout",
          "text": [
            "Testing Classification Report for any_label label:\n",
            "               precision    recall  f1-score   support\n",
            "\n",
            "           0       0.96      0.99      0.98     28610\n",
            "           1       0.91      0.68      0.78      3305\n",
            "\n",
            "    accuracy                           0.96     31915\n",
            "   macro avg       0.94      0.83      0.88     31915\n",
            "weighted avg       0.96      0.96      0.96     31915\n",
            "\n"
          ]
        },
        {
          "output_type": "display_data",
          "data": {
            "text/plain": [
              "<Figure size 360x360 with 1 Axes>"
            ],
            "image/png": "[encoded data removed]"
          },
          "metadata": {
            "needs_background": "light"
          }
        }
      ]
    },
    {
      "cell_type": "code",
      "source": [
        "logReg_cv_scores_opt = cross_validate(5, X, df_targets, LogisticRegression(C=1.2, random_state=0))\n",
        "logReg_cv_scores_opt"
      ],
      "metadata": {
        "id": "5Da2LI1Ku-bt"
      },
      "execution_count": null,
      "outputs": []
    },
    {
      "cell_type": "code",
      "source": [
        "#Predict on Custom Input\n",
        "test_string = 'this is a stupid article'\n",
        "print(predict_custom(test_string, comment_vector, scaler, 'logisticReg'))"
      ],
      "metadata": {
        "colab": {
          "base_uri": "https://localhost:8080/"
        },
        "id": "oNv_Ue8NvFLt",
        "outputId": "79f5d9bc-a718-4482-f706-8ccd541ff0f6"
      },
      "execution_count": null,
      "outputs": [
        {
          "output_type": "stream",
          "name": "stdout",
          "text": [
            "{'toxic': [1], 'threat': [0], 'severe_toxic': [0], 'obscene': [1], 'insult': [1], 'identity_hate': [0], 'any_label': [1]}\n"
          ]
        }
      ]
    },
    {
      "cell_type": "markdown",
      "metadata": {
        "id": "llIL6aVqz-Fh"
      },
      "source": [
        "### LightGBM Classifier"
      ]
    },
    {
      "cell_type": "code",
      "execution_count": null,
      "metadata": {
        "id": "6BlaRRuB0Dcx"
      },
      "outputs": [],
      "source": [
        "import lightgbm as lgb"
      ]
    },
    {
      "cell_type": "markdown",
      "metadata": {
        "id": "v7oL31z7Bflb"
      },
      "source": [
        "#### Hyper Parameter Tuning"
      ]
    },
    {
      "cell_type": "code",
      "execution_count": null,
      "metadata": {
        "id": "Oufs4d8x0fKM"
      },
      "outputs": [],
      "source": [
        "#C=0.8\n",
        "dtClassifier = DecisionTreeClassifier(min_samples_split=2, min_samples_leaf=3, criterion='entropy', random_state=0)\n",
        "svc_cv_scores = cross_validate(5, X_train_validate, y_train_validate[['any_label']], dtClassifier)\n",
        "print(svc_cv_scores)"
      ]
    }
  ],
  "metadata": {
    "colab": {
      "provenance": [],
      "toc_visible": true,
      "include_colab_link": true
    },
    "kernelspec": {
      "display_name": "Python 3",
      "name": "python3"
    },
    "language_info": {
      "name": "python"
    }
  },
  "nbformat": 4,
  "nbformat_minor": 0
}